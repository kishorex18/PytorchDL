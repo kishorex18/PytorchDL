{
  "nbformat": 4,
  "nbformat_minor": 0,
  "metadata": {
    "colab": {
      "provenance": [],
      "gpuType": "T4",
      "authorship_tag": "ABX9TyN2Y4eZk8EbuAJGtqC7ESr9",
      "include_colab_link": true
    },
    "kernelspec": {
      "name": "python3",
      "display_name": "Python 3"
    },
    "language_info": {
      "name": "python"
    },
    "accelerator": "GPU"
  },
  "cells": [
    {
      "cell_type": "markdown",
      "metadata": {
        "id": "view-in-github",
        "colab_type": "text"
      },
      "source": [
        "<a href=\"https://colab.research.google.com/github/kishorex18/PytorchDL/blob/main/BidirectionalRNN.ipynb\" target=\"_parent\"><img src=\"https://colab.research.google.com/assets/colab-badge.svg\" alt=\"Open In Colab\"/></a>"
      ]
    },
    {
      "cell_type": "code",
      "execution_count": 1,
      "metadata": {
        "id": "Ue5r-rG1fRXP"
      },
      "outputs": [],
      "source": [
        "import torch\n",
        "import torch.optim as optim\n",
        "import torch.nn as nn\n",
        "import torch.nn.functional as F\n",
        "from torchvision.datasets import MNIST\n",
        "from torch.utils.data import DataLoader\n",
        "import torchvision.transforms as transforms"
      ]
    },
    {
      "cell_type": "code",
      "source": [
        "batch_size=64\n",
        "embedding_dim=28\n",
        "sequence_length=28\n",
        "learning_rate=0.001\n",
        "epochs=3\n",
        "hidden_size=256\n",
        "num_classes=10\n",
        "num_layers=2"
      ],
      "metadata": {
        "id": "v6LZ5horf9OP"
      },
      "execution_count": 2,
      "outputs": []
    },
    {
      "cell_type": "code",
      "source": [
        "train_data=MNIST(root=\"dataset/\",train=True,transform=transforms.ToTensor(),download=True)\n",
        "train_batches=DataLoader(dataset=train_data,batch_size=batch_size,shuffle=True)\n",
        "test_data=MNIST(root=\"dataset/\",train=False,transform=transforms.ToTensor(),download=True)\n",
        "test_batches=DataLoader(dataset=test_data,batch_size=batch_size,shuffle=True)"
      ],
      "metadata": {
        "colab": {
          "base_uri": "https://localhost:8080/"
        },
        "id": "NlD0UTMTgJ6z",
        "outputId": "ae5a2d25-18fc-456b-9e50-d14fb33e2a9b"
      },
      "execution_count": 3,
      "outputs": [
        {
          "output_type": "stream",
          "name": "stdout",
          "text": [
            "Downloading http://yann.lecun.com/exdb/mnist/train-images-idx3-ubyte.gz\n",
            "Failed to download (trying next):\n",
            "<urlopen error [Errno 111] Connection refused>\n",
            "\n",
            "Downloading https://ossci-datasets.s3.amazonaws.com/mnist/train-images-idx3-ubyte.gz\n",
            "Downloading https://ossci-datasets.s3.amazonaws.com/mnist/train-images-idx3-ubyte.gz to dataset/MNIST/raw/train-images-idx3-ubyte.gz\n"
          ]
        },
        {
          "output_type": "stream",
          "name": "stderr",
          "text": [
            "100%|██████████| 9.91M/9.91M [00:11<00:00, 900kB/s] \n"
          ]
        },
        {
          "output_type": "stream",
          "name": "stdout",
          "text": [
            "Extracting dataset/MNIST/raw/train-images-idx3-ubyte.gz to dataset/MNIST/raw\n",
            "\n",
            "Downloading http://yann.lecun.com/exdb/mnist/train-labels-idx1-ubyte.gz\n",
            "Failed to download (trying next):\n",
            "<urlopen error [Errno 111] Connection refused>\n",
            "\n",
            "Downloading https://ossci-datasets.s3.amazonaws.com/mnist/train-labels-idx1-ubyte.gz\n",
            "Downloading https://ossci-datasets.s3.amazonaws.com/mnist/train-labels-idx1-ubyte.gz to dataset/MNIST/raw/train-labels-idx1-ubyte.gz\n"
          ]
        },
        {
          "output_type": "stream",
          "name": "stderr",
          "text": [
            "100%|██████████| 28.9k/28.9k [00:00<00:00, 134kB/s]\n"
          ]
        },
        {
          "output_type": "stream",
          "name": "stdout",
          "text": [
            "Extracting dataset/MNIST/raw/train-labels-idx1-ubyte.gz to dataset/MNIST/raw\n",
            "\n",
            "Downloading http://yann.lecun.com/exdb/mnist/t10k-images-idx3-ubyte.gz\n",
            "Failed to download (trying next):\n",
            "<urlopen error [Errno 111] Connection refused>\n",
            "\n",
            "Downloading https://ossci-datasets.s3.amazonaws.com/mnist/t10k-images-idx3-ubyte.gz\n",
            "Downloading https://ossci-datasets.s3.amazonaws.com/mnist/t10k-images-idx3-ubyte.gz to dataset/MNIST/raw/t10k-images-idx3-ubyte.gz\n"
          ]
        },
        {
          "output_type": "stream",
          "name": "stderr",
          "text": [
            "100%|██████████| 1.65M/1.65M [00:06<00:00, 246kB/s]\n"
          ]
        },
        {
          "output_type": "stream",
          "name": "stdout",
          "text": [
            "Extracting dataset/MNIST/raw/t10k-images-idx3-ubyte.gz to dataset/MNIST/raw\n",
            "\n",
            "Downloading http://yann.lecun.com/exdb/mnist/t10k-labels-idx1-ubyte.gz\n",
            "Failed to download (trying next):\n",
            "<urlopen error [Errno 111] Connection refused>\n",
            "\n",
            "Downloading https://ossci-datasets.s3.amazonaws.com/mnist/t10k-labels-idx1-ubyte.gz\n",
            "Downloading https://ossci-datasets.s3.amazonaws.com/mnist/t10k-labels-idx1-ubyte.gz to dataset/MNIST/raw/t10k-labels-idx1-ubyte.gz\n"
          ]
        },
        {
          "output_type": "stream",
          "name": "stderr",
          "text": [
            "100%|██████████| 4.54k/4.54k [00:00<00:00, 3.11MB/s]\n"
          ]
        },
        {
          "output_type": "stream",
          "name": "stdout",
          "text": [
            "Extracting dataset/MNIST/raw/t10k-labels-idx1-ubyte.gz to dataset/MNIST/raw\n",
            "\n"
          ]
        }
      ]
    },
    {
      "cell_type": "code",
      "source": [
        "import torch.cuda\n",
        "device=torch.device(\"cuda\" if torch.cuda.is_available() else \"cpu\")"
      ],
      "metadata": {
        "id": "PNnW1xH1gOVj"
      },
      "execution_count": 5,
      "outputs": []
    },
    {
      "cell_type": "code",
      "source": [
        "torch.cuda.is_available()"
      ],
      "metadata": {
        "colab": {
          "base_uri": "https://localhost:8080/"
        },
        "id": "hnmMAli_gZdF",
        "outputId": "bd7f5d31-c86a-49bc-8978-81c456229b11"
      },
      "execution_count": 6,
      "outputs": [
        {
          "output_type": "execute_result",
          "data": {
            "text/plain": [
              "True"
            ]
          },
          "metadata": {},
          "execution_count": 6
        }
      ]
    },
    {
      "cell_type": "code",
      "source": [
        "class BLSTM(nn.Module):\n",
        "  def __init__(self,input_size,num_layers,hidden_size):\n",
        "    super(BLSTM,self).__init__()\n",
        "    self.input_size=input_size\n",
        "    self.num_layers=num_layers\n",
        "    self.hidden_size=hidden_size\n",
        "\n",
        "    self.lstm=nn.LSTM(input_size,hidden_size,num_layers,batch_first=True,bidirectional=True)\n",
        "    self.fc=nn.Linear(2*hidden_size,num_classes)\n",
        "\n",
        "  def forward(self,X):\n",
        "\n",
        "      h0=torch.zeros(2*num_layers,X.size(0),self.hidden_size).to(device)\n",
        "      c0=torch.zeros(2*num_layers,X.size(0),self.hidden_size).to(device)\n",
        "      output,_=self.lstm(X,(h0,c0))\n",
        "      output=self.fc(output[:,-1,:]) #processing only the final output\n",
        "      return output"
      ],
      "metadata": {
        "id": "kgoQierCggNW"
      },
      "execution_count": 7,
      "outputs": []
    },
    {
      "cell_type": "code",
      "source": [
        "def train(model,train_batches):\n",
        "    creterion=nn.CrossEntropyLoss()\n",
        "    optimizer=optim.Adam(model.parameters(),lr=learning_rate)\n",
        "    for i in range(epochs):\n",
        "      for batch_idx,(data,targets) in enumerate(train_batches):\n",
        "        data=data.to(device).squeeze(1)\n",
        "        targets=targets.to(device)\n",
        "        predicted=model(data)\n",
        "        loss=creterion(predicted,targets)\n",
        "\n",
        "        optimizer.zero_grad()\n",
        "        loss.backward()\n",
        "\n",
        "        optimizer.step()\n",
        "    return model"
      ],
      "metadata": {
        "id": "6MlSIgFAhUca"
      },
      "execution_count": 8,
      "outputs": []
    },
    {
      "cell_type": "code",
      "source": [
        "def check_accuracy(batches,model):\n",
        "  num_samples=0\n",
        "  num_correct=0\n",
        "  model.eval()\n",
        "  with torch.no_grad():\n",
        "    for data,targets in batches:\n",
        "      data=data.to(device).squeeze(1)\n",
        "      targets=targets.to(device)\n",
        "      output=model(data)\n",
        "      _,predicted=output.max(1)\n",
        "      num_correct+=(targets==predicted).sum()\n",
        "      num_samples+=predicted.size(0)\n",
        "\n",
        "  model.train()\n",
        "  return num_correct/num_samples"
      ],
      "metadata": {
        "id": "75y685ephZZZ"
      },
      "execution_count": 9,
      "outputs": []
    },
    {
      "cell_type": "code",
      "source": [
        "model_blstm=BLSTM(embedding_dim,num_layers,hidden_size).to(device)"
      ],
      "metadata": {
        "id": "WrigpneahdPz"
      },
      "execution_count": 12,
      "outputs": []
    },
    {
      "cell_type": "code",
      "source": [
        "trained_model_blstm=train(model_blstm,train_batches)"
      ],
      "metadata": {
        "id": "w7r28K2ohol7"
      },
      "execution_count": 13,
      "outputs": []
    },
    {
      "cell_type": "code",
      "source": [
        "print(check_accuracy(test_batches,model_blstm))"
      ],
      "metadata": {
        "colab": {
          "base_uri": "https://localhost:8080/"
        },
        "id": "jj5ac9ghh1bz",
        "outputId": "33d25d19-bcac-4794-e26a-23829edc7617"
      },
      "execution_count": 14,
      "outputs": [
        {
          "output_type": "stream",
          "name": "stdout",
          "text": [
            "tensor(0.9788, device='cuda:0')\n"
          ]
        }
      ]
    },
    {
      "cell_type": "code",
      "source": [],
      "metadata": {
        "id": "xAst7lVAiNyz"
      },
      "execution_count": null,
      "outputs": []
    }
  ]
}