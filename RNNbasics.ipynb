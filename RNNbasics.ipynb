{
  "nbformat": 4,
  "nbformat_minor": 0,
  "metadata": {
    "colab": {
      "provenance": [],
      "authorship_tag": "ABX9TyP1AOKWBl9+/HJypGlky0UU",
      "include_colab_link": true
    },
    "kernelspec": {
      "name": "python3",
      "display_name": "Python 3"
    },
    "language_info": {
      "name": "python"
    }
  },
  "cells": [
    {
      "cell_type": "markdown",
      "metadata": {
        "id": "view-in-github",
        "colab_type": "text"
      },
      "source": [
        "<a href=\"https://colab.research.google.com/github/kishorex18/PytorchDL/blob/main/RNNbasics.ipynb\" target=\"_parent\"><img src=\"https://colab.research.google.com/assets/colab-badge.svg\" alt=\"Open In Colab\"/></a>"
      ]
    },
    {
      "cell_type": "code",
      "execution_count": 2,
      "metadata": {
        "id": "2FGXsf7N_Vep"
      },
      "outputs": [],
      "source": [
        "import torch\n",
        "import torch.optim as optim\n",
        "import torch.nn as nn\n",
        "import torch.nn.functional as F\n",
        "from torchvision.datasets import MNIST\n",
        "from torch.utils.data import DataLoader\n",
        "import torchvision.transforms as transforms"
      ]
    },
    {
      "cell_type": "code",
      "source": [
        "batch_size=64\n",
        "embedding_dim=28\n",
        "sequence_length=28\n",
        "learning_rate=0.001\n",
        "epochs=3\n",
        "hidden_size=256\n",
        "num_classes=10\n",
        "num_layers=2"
      ],
      "metadata": {
        "id": "4PW3s0wkAjyu"
      },
      "execution_count": 33,
      "outputs": []
    },
    {
      "cell_type": "code",
      "source": [
        "train_data=MNIST(root=\"dataset/\",train=True,transform=transforms.ToTensor(),download=True)\n",
        "train_batches=DataLoader(dataset=train_data,batch_size=batch_size,shuffle=True)\n",
        "test_data=MNIST(root=\"dataset/\",train=False,transform=transforms.ToTensor(),download=True)\n",
        "test_batches=DataLoader(dataset=test_data,batch_size=batch_size,shuffle=True)"
      ],
      "metadata": {
        "id": "QEOr6gVrAGjl"
      },
      "execution_count": 5,
      "outputs": []
    },
    {
      "cell_type": "code",
      "source": [
        "device=torch.device(\"cuda\" if torch.cuda.is_available() else \"cpu\")"
      ],
      "metadata": {
        "id": "RmJy-7ODBtVp"
      },
      "execution_count": 8,
      "outputs": []
    },
    {
      "cell_type": "code",
      "source": [
        "class RNN(nn.Module):\n",
        "  def __init__(self,input_size,num_layers,hidden_size):\n",
        "    super(RNN,self).__init__()\n",
        "    self.input_size=input_size\n",
        "    self.num_layers=num_layers\n",
        "    self.hidden_size=hidden_size\n",
        "\n",
        "    self.rnn=nn.RNN(input_size,hidden_size,num_layers,batch_first=True)\n",
        "    self.fc=nn.Linear(hidden_size*sequence_length,num_classes)\n",
        "\n",
        "  def forward(self,X):\n",
        "\n",
        "      h0=torch.zeros(num_layers,X.size(0),self.hidden_size).to(device)\n",
        "      output,_=self.rnn(X,h0)\n",
        "      output=output.reshape(output.shape[0],-1)\n",
        "      output=self.fc(output)\n",
        "      return output"
      ],
      "metadata": {
        "id": "0uCxeKz3BJxU"
      },
      "execution_count": 38,
      "outputs": []
    },
    {
      "cell_type": "code",
      "source": [
        "class GRU(nn.Module):\n",
        "  def __init__(self,input_size,num_layers,hidden_size):\n",
        "    super(GRU,self).__init__()\n",
        "    self.input_size=input_size\n",
        "    self.num_layers=num_layers\n",
        "    self.hidden_size=hidden_size\n",
        "\n",
        "    self.gru=nn.GRU(input_size,hidden_size,num_layers,batch_first=True)\n",
        "    self.fc=nn.Linear(hidden_size*sequence_length,num_classes)\n",
        "\n",
        "  def forward(self,X):\n",
        "\n",
        "      h0=torch.zeros(num_layers,X.size(0),self.hidden_size).to(device)\n",
        "      output,_=self.gru(X,h0)\n",
        "      output=output.reshape(output.shape[0],-1)\n",
        "      output=self.fc(output)\n",
        "      return output"
      ],
      "metadata": {
        "id": "QRnozgLTPedT"
      },
      "execution_count": 48,
      "outputs": []
    },
    {
      "cell_type": "code",
      "source": [
        "class LSTM(nn.Module):\n",
        "  def __init__(self,input_size,num_layers,hidden_size):\n",
        "    super(LSTM,self).__init__()\n",
        "    self.input_size=input_size\n",
        "    self.num_layers=num_layers\n",
        "    self.hidden_size=hidden_size\n",
        "\n",
        "    self.lstm=nn.LSTM(input_size,hidden_size,num_layers,batch_first=True)\n",
        "    self.fc=nn.Linear(hidden_size*sequence_length,num_classes)\n",
        "\n",
        "  def forward(self,X):\n",
        "\n",
        "      h0=torch.zeros(num_layers,X.size(0),self.hidden_size).to(device)\n",
        "      c0=torch.zeros(num_layers,X.size(0),self.hidden_size).to(device)\n",
        "      output,_=self.lstm(X,(h0,c0))\n",
        "      output=output.reshape(output.shape[0],-1)\n",
        "      output=self.fc(output)\n",
        "      return output"
      ],
      "metadata": {
        "id": "ZHZy5bGpQF5R"
      },
      "execution_count": 49,
      "outputs": []
    },
    {
      "cell_type": "code",
      "source": [
        "def train(model,train_batches):\n",
        "    creterion=nn.CrossEntropyLoss()\n",
        "    optimizer=optim.Adam(model.parameters(),lr=learning_rate)\n",
        "    for i in range(epochs):\n",
        "      for batch_idx,(data,targets) in enumerate(train_batches):\n",
        "        data=data.to(device).squeeze(1)\n",
        "        targets=targets.to(device)\n",
        "        predicted=model(data)\n",
        "        loss=creterion(predicted,targets)\n",
        "\n",
        "        optimizer.zero_grad()\n",
        "        loss.backward()\n",
        "\n",
        "        optimizer.step()\n",
        "    return model"
      ],
      "metadata": {
        "id": "PoC7byzYQcuK"
      },
      "execution_count": 53,
      "outputs": []
    },
    {
      "cell_type": "code",
      "source": [
        "def check_accuracy(batches,model):\n",
        "  num_samples=0\n",
        "  num_correct=0\n",
        "  model.eval()\n",
        "  with torch.no_grad():\n",
        "    for data,targets in batches:\n",
        "      data=data.to(device).squeeze(1)\n",
        "      targets=targets.to(device)\n",
        "      output=model(data)\n",
        "      _,predicted=output.max(1)\n",
        "      num_correct+=(targets==predicted).sum()\n",
        "      num_samples+=predicted.size(0)\n",
        "\n",
        "  model.train()\n",
        "  return num_correct/num_samples"
      ],
      "metadata": {
        "id": "xjuHfRtYQizn"
      },
      "execution_count": 51,
      "outputs": []
    },
    {
      "cell_type": "code",
      "source": [
        "model_rnn=RNN(embedding_dim,num_layers,hidden_size)"
      ],
      "metadata": {
        "id": "lECVrHS9Qs9Y"
      },
      "execution_count": 54,
      "outputs": []
    },
    {
      "cell_type": "code",
      "source": [
        "trained_rnn=train(model_rnn,train_batches)"
      ],
      "metadata": {
        "id": "QkrrdKSERvbb"
      },
      "execution_count": 55,
      "outputs": []
    },
    {
      "cell_type": "code",
      "source": [
        "print(check_accuracy(test_batches,model_rnn))"
      ],
      "metadata": {
        "colab": {
          "base_uri": "https://localhost:8080/"
        },
        "id": "5-Oq0iOvR39K",
        "outputId": "57c28462-ac4f-4c63-f87f-cdcd4c6d4ff6"
      },
      "execution_count": 56,
      "outputs": [
        {
          "output_type": "stream",
          "name": "stdout",
          "text": [
            "tensor(0.9633)\n"
          ]
        }
      ]
    },
    {
      "cell_type": "code",
      "source": [
        "model_gru=GRU(embedding_dim,num_layers,hidden_size)"
      ],
      "metadata": {
        "id": "JdpMaOY-S0VE"
      },
      "execution_count": 57,
      "outputs": []
    },
    {
      "cell_type": "code",
      "source": [
        "trained_gru=train(model_gru,train_batches)"
      ],
      "metadata": {
        "id": "n2ZX_qwRTLvw"
      },
      "execution_count": 66,
      "outputs": []
    },
    {
      "cell_type": "code",
      "source": [
        "print(check_accuracy(test_batches,model_gru))"
      ],
      "metadata": {
        "colab": {
          "base_uri": "https://localhost:8080/"
        },
        "id": "SIDYIvm2TPk8",
        "outputId": "920f801c-a090-4c6a-a267-a36a88c7a521"
      },
      "execution_count": 67,
      "outputs": [
        {
          "output_type": "stream",
          "name": "stdout",
          "text": [
            "tensor(0.9872)\n"
          ]
        }
      ]
    },
    {
      "cell_type": "code",
      "source": [
        "model_lstm=LSTM(embedding_dim,num_layers,hidden_size)"
      ],
      "metadata": {
        "id": "CE3nsWptTWRx"
      },
      "execution_count": 62,
      "outputs": []
    },
    {
      "cell_type": "code",
      "source": [
        "trained_lstm=train(model_lstm,train_batches)"
      ],
      "metadata": {
        "id": "nKLl7oSYTb8f"
      },
      "execution_count": 63,
      "outputs": []
    },
    {
      "cell_type": "code",
      "source": [
        "print(check_accuracy(test_batches,model_lstm))"
      ],
      "metadata": {
        "colab": {
          "base_uri": "https://localhost:8080/"
        },
        "id": "A0STGZo5Tlk0",
        "outputId": "c0bbad54-f11c-4205-888c-b9c6042dc8b9"
      },
      "execution_count": 64,
      "outputs": [
        {
          "output_type": "stream",
          "name": "stdout",
          "text": [
            "tensor(0.9871)\n"
          ]
        }
      ]
    },
    {
      "cell_type": "code",
      "source": [],
      "metadata": {
        "id": "Nx5AiCzaTpa4"
      },
      "execution_count": null,
      "outputs": []
    }
  ]
}