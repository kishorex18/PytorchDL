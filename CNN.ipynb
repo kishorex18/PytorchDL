{
  "nbformat": 4,
  "nbformat_minor": 0,
  "metadata": {
    "colab": {
      "provenance": [],
      "toc_visible": true,
      "authorship_tag": "ABX9TyOj7kjUYYHARz5tcGZu+5xj",
      "include_colab_link": true
    },
    "kernelspec": {
      "name": "python3",
      "display_name": "Python 3"
    },
    "language_info": {
      "name": "python"
    }
  },
  "cells": [
    {
      "cell_type": "markdown",
      "metadata": {
        "id": "view-in-github",
        "colab_type": "text"
      },
      "source": [
        "<a href=\"https://colab.research.google.com/github/kishorex18/PytorchDL/blob/main/CNN.ipynb\" target=\"_parent\"><img src=\"https://colab.research.google.com/assets/colab-badge.svg\" alt=\"Open In Colab\"/></a>"
      ]
    },
    {
      "cell_type": "code",
      "execution_count": 3,
      "metadata": {
        "id": "i_Jxl8rc3yOm"
      },
      "outputs": [],
      "source": [
        "import torch\n",
        "import torch.nn as nn\n",
        "import torch.optim as optim\n",
        "import torch.nn.functional as F\n",
        "from torch.utils.data import DataLoader\n",
        "from torchvision.datasets import MNIST\n",
        "import torchvision.transforms as transforms"
      ]
    },
    {
      "cell_type": "code",
      "source": [
        "class CNN(nn.Module):\n",
        "  def __init__(self,in_channels=1,num_classes=10):\n",
        "    super(CNN,self).__init__()\n",
        "    self.conv1=nn.Conv2d(in_channels=1,out_channels=8,kernel_size=(3,3),stride=(1,1),padding=(1,1))\n",
        "    self.pool=nn.MaxPool2d(kernel_size=(2,2),stride=(2,2))\n",
        "    self.conv2=nn.Conv2d(in_channels=8,out_channels=16,kernel_size=(3,3),stride=(1,1),padding=(1,1))\n",
        "    self.fc1=nn.Linear(16*7*7,num_classes)\n",
        "\n",
        "  def forward(self,X):\n",
        "    conv1_output=F.relu(self.conv1(X))\n",
        "    pool1_output=self.pool(conv1_output)\n",
        "    conv2_output=F.relu(self.conv2(pool1_output))\n",
        "    pool2_output=self.pool(conv2_output)\n",
        "    flattened=pool2_output.reshape(pool2_output.shape[0],-1)\n",
        "    output=self.fc1(flattened)\n",
        "    return output"
      ],
      "metadata": {
        "id": "aGb2qlNm_U6t"
      },
      "execution_count": 17,
      "outputs": []
    },
    {
      "cell_type": "code",
      "source": [
        "device=torch.device(\"cuda\" if torch.cuda.is_available() else \"cpu\")"
      ],
      "metadata": {
        "id": "T_xGk61VDhcY"
      },
      "execution_count": 5,
      "outputs": []
    },
    {
      "cell_type": "code",
      "source": [
        "input_size=28\n",
        "learning_rate=0.001\n",
        "epochs=2\n",
        "batch_size=64\n",
        "num_classes=10"
      ],
      "metadata": {
        "id": "F25eG4ilEnXO"
      },
      "execution_count": 24,
      "outputs": []
    },
    {
      "cell_type": "code",
      "source": [
        "train_data=MNIST(root=\"datasets/\",train=True,transform=transforms.ToTensor(),download=True)\n",
        "train_batches=DataLoader(dataset=train_data,batch_size=batch_size,shuffle=True)\n",
        "test_data=MNIST(root=\"datasets/\",train=False,transform=transforms.ToTensor(),download=True)\n",
        "test_batches=DataLoader(dataset=test_data,batch_size=batch_size,shuffle=True)"
      ],
      "metadata": {
        "id": "yPraHaOkECys"
      },
      "execution_count": 25,
      "outputs": []
    },
    {
      "cell_type": "code",
      "source": [
        "model=CNN().to(device)"
      ],
      "metadata": {
        "id": "YzkHvUq0GDKV"
      },
      "execution_count": 35,
      "outputs": []
    },
    {
      "cell_type": "code",
      "source": [
        "creterion=nn.CrossEntropyLoss()\n",
        "optimizer=optim.Adam(model.parameters(),lr=learning_rate)"
      ],
      "metadata": {
        "id": "hCP5LrkMF5Qc"
      },
      "execution_count": 36,
      "outputs": []
    },
    {
      "cell_type": "code",
      "source": [
        "for i in range(epochs):\n",
        "  for batch_idx,(data,targets) in enumerate(train_batches):\n",
        "    data=data.to(device)\n",
        "    targets=targets.to(device)\n",
        "    scores=model(data)\n",
        "    loss=creterion(scores,targets)\n",
        "\n",
        "    optimizer.zero_grad()\n",
        "    loss.backward()\n",
        "\n",
        "    optimizer.step()"
      ],
      "metadata": {
        "id": "lp15XvkoFQv6"
      },
      "execution_count": 37,
      "outputs": []
    },
    {
      "cell_type": "code",
      "source": [
        "model.eval()"
      ],
      "metadata": {
        "id": "axFqYqGzHkyc",
        "outputId": "9d59a1c7-9f27-4f15-94ec-c12ac3dae3d1",
        "colab": {
          "base_uri": "https://localhost:8080/"
        }
      },
      "execution_count": 38,
      "outputs": [
        {
          "output_type": "execute_result",
          "data": {
            "text/plain": [
              "CNN(\n",
              "  (conv1): Conv2d(1, 8, kernel_size=(3, 3), stride=(1, 1), padding=(1, 1))\n",
              "  (pool): MaxPool2d(kernel_size=(2, 2), stride=(2, 2), padding=0, dilation=1, ceil_mode=False)\n",
              "  (conv2): Conv2d(8, 16, kernel_size=(3, 3), stride=(1, 1), padding=(1, 1))\n",
              "  (fc1): Linear(in_features=784, out_features=10, bias=True)\n",
              ")"
            ]
          },
          "metadata": {},
          "execution_count": 38
        }
      ]
    },
    {
      "cell_type": "code",
      "source": [
        "def check_accuracy(batches,model):\n",
        "  num_samples=0\n",
        "  num_correct=0\n",
        "  model.eval()\n",
        "  with torch.no_grad():\n",
        "    for data,targets in batches:\n",
        "      data=data.to(device)\n",
        "      targets=targets.to(device)\n",
        "      output=model(data)\n",
        "      _,predicted=output.max(1)\n",
        "      num_correct+=(targets==predicted).sum()\n",
        "      num_samples+=predicted.size(0)\n",
        "\n",
        "  model.train()\n",
        "  return num_correct/num_samples"
      ],
      "metadata": {
        "id": "etfpVtNYILLG"
      },
      "execution_count": 44,
      "outputs": []
    },
    {
      "cell_type": "code",
      "source": [
        "print(check_accuracy(test_batches,model))"
      ],
      "metadata": {
        "id": "ubzxqf83JsUP",
        "outputId": "d21c093a-7937-4dec-cb53-118742347e2c",
        "colab": {
          "base_uri": "https://localhost:8080/"
        }
      },
      "execution_count": 45,
      "outputs": [
        {
          "output_type": "stream",
          "name": "stdout",
          "text": [
            "tensor(0.9738)\n"
          ]
        }
      ]
    },
    {
      "cell_type": "code",
      "source": [],
      "metadata": {
        "id": "qeNyeUScJx0g"
      },
      "execution_count": 42,
      "outputs": []
    },
    {
      "cell_type": "code",
      "source": [],
      "metadata": {
        "id": "goeqjBi3LGnJ"
      },
      "execution_count": 42,
      "outputs": []
    },
    {
      "cell_type": "code",
      "source": [],
      "metadata": {
        "id": "l-1o3VbDLMe7"
      },
      "execution_count": 42,
      "outputs": []
    }
  ]
}